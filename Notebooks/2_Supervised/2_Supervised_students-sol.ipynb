{
 "cells": [
  {
   "cell_type": "markdown",
   "metadata": {},
   "source": [
    "# HaMLeT"
   ]
  },
  {
   "cell_type": "markdown",
   "metadata": {},
   "source": [
    "# Session 2: Supervised Learning"
   ]
  },
  {
   "cell_type": "markdown",
   "metadata": {},
   "source": [
    "## Goals of this session\n",
    "\n",
    "At the end of this session, you will have an understanding of the following:\n",
    "- Difference between supervised and unsupervised learning\n",
    "- What is meant by Classification in ML\n",
    "- Supervised Learning:\n",
    "    - Support Vector Machine (SVM)\n",
    "    - k-nearest neighbour\n",
    "    - Linear regression\n",
    "- Unsupervised Learning:\n",
    "    - k-means clustering\n",
    "    - GMM"
   ]
  },
  {
   "cell_type": "markdown",
   "metadata": {},
   "source": [
    "For most of the tasks in this notebook, we are going to use our knowledge about PCA from last session. So, instead of using the features of the Iris dataset directly, we are going to use the PCA features we calculated last time. It is advisable that you check the difference in results you obtain with the features directly versus with PCA for the tasks below. "
   ]
  },
  {
   "cell_type": "markdown",
   "metadata": {},
   "source": [
    "Let's first import some of the useful packages and the Iris dataset using `scikit`. We also perform PCA just as we did last time!"
   ]
  },
  {
   "cell_type": "code",
   "execution_count": 8,
   "metadata": {},
   "outputs": [],
   "source": [
    "import numpy as np\n",
    "import matplotlib.pyplot as plt\n",
    "from sklearn import datasets\n",
    "np.random.seed(seed=10) # to ensure reproducible reuslts\n",
    "\n",
    "iris = datasets.load_iris()\n",
    "features = iris.data[:,[0,1,2,3]]\n",
    "targets = iris.target "
   ]
  },
  {
   "cell_type": "markdown",
   "metadata": {},
   "source": [
    "## Recap: PCA"
   ]
  },
  {
   "cell_type": "code",
   "execution_count": 9,
   "metadata": {},
   "outputs": [
    {
     "data": {
      "image/png": "[encoded data removed]",
      "text/plain": [
       "<Figure size 432x288 with 1 Axes>"
      ]
     },
     "metadata": {
      "needs_background": "light"
     },
     "output_type": "display_data"
    }
   ],
   "source": [
    "# Data standarization\n",
    "from sklearn.preprocessing import StandardScaler\n",
    "features = StandardScaler().fit_transform(features)\n",
    "# PCA\n",
    "from sklearn.decomposition import PCA as sklearnPCA\n",
    "sklearn_pca = sklearnPCA(n_components=2)\n",
    "features_PCA = sklearn_pca.fit_transform(features)\n",
    "\n",
    "species = ('Iris-setosa', 'Iris-versicolor', 'Iris-virginica')\n",
    "colors = ('blue','green','red')\n",
    "\n",
    "# Plotting the relationship between PCA1 and PCA2\n",
    "feature1 = features_PCA[:, 0] \n",
    "feature2 = features_PCA[:, 1]\n",
    "    \n",
    "species = ('Iris-setosa', 'Iris-versicolor', 'Iris-virginica')\n",
    "colors = ('blue','green','red')\n",
    "data = [[features_PCA[np.where(targets == target)][:, feature] for feature in [0, 1]] for target in range(3)]\n",
    "\n",
    "for item, color, group in zip(data, colors, species):\n",
    "    plt.scatter(item[0], item[1], color=color)\n",
    "    plt.title('Projection matrix')\n",
    "plt.xlabel('PCA1')\n",
    "plt.ylabel('PCA2')\n",
    "plt.legend(species)\n",
    "plt.show()"
   ]
  },
  {
   "cell_type": "markdown",
   "metadata": {},
   "source": [
    "## 1. Supervised Learning (Classification of the Iris dataset)\n",
    "\n",
    "Classification tasks aim at predicting the class of a given data sample. For the Iris dataset, we want to predict which one of the three species a given sample belongs to. In supervised learning, we do so by 'learning' a model based on some training samples. We then use this trained model to make predictions on 'unseen' or test-dataset.\n",
    "\n",
    "Before we dive into any of the algorithms, we need to get introduced to the idea of splitting the datset into train and test sets. \n",
    "\n",
    "We know that the Iris dataset consists of 150 samples. Now, we will take 80% of the samples as our training set and the remaining as test set. We calculate the accuracy of our model on the test set. The common ML terminology is as follows: X_train, X_test are, respectively, the feature vectors for training and testing; and y_train and y_test are the corresponding labels for X_train and X_test. The predictions will be stored in y_pred."
   ]
  },
  {
   "cell_type": "markdown",
   "metadata": {},
   "source": [
    "**Task:** Using the `train_test_split` function of `sklearn`, split the PCA features obtained above in accordance with the standard ML naming convention (as explained above). \n",
    "\n",
    "Tip: Please use the default parameters for the split. You will learn this topic more in details in the next session ;)"
   ]
  },
  {
   "cell_type": "code",
   "execution_count": 33,
   "metadata": {},
   "outputs": [],
   "source": [
    "from sklearn.model_selection import train_test_split\n",
    "x_train,x_test,y_train,y_test=train_test_split(features_PCA,targets,test_size=0.2,shuffle=True)"
   ]
  },
  {
   "cell_type": "markdown",
   "metadata": {},
   "source": [
    "### 1.1 My very own classifier"
   ]
  },
  {
   "cell_type": "markdown",
   "metadata": {},
   "source": [
    "**Task:** Refer to the PCA plot above and design your own classifier (by completing the assisting code!). For this, you may define simple linear or non-linear conditions to classify the sample points into one of the three classes. \n",
    "\n",
    "Example condition: if PCA1 for given sample < -2, sample is Iris-Setosa"
   ]
  },
  {
   "cell_type": "code",
   "execution_count": 37,
   "metadata": {},
   "outputs": [],
   "source": [
    "# Complete the following lines of code: \n",
    "\n",
    "class StudentsClassifier:\n",
    "    def predict(self, X):\n",
    "        return np.array([self.predict_single(x) for x in X])\n",
    "    \n",
    "    def predict_single(self, X):\n",
    "        # X[0] = PCA feature 1\n",
    "        # X[1] = PCA feature 2\n",
    "        \n",
    "        # write a function that returns the index of the class\n",
    "        # e.g. if Iris-Setosa, return 0 \n",
    "        \n",
    "        if X[0]<-1:\n",
    "            return 0\n",
    "        elif -1<X[0]<1:\n",
    "            return 1\n",
    "        else:\n",
    "            return 2\n",
    "\n"
   ]
  },
  {
   "cell_type": "markdown",
   "metadata": {},
   "source": [
    "### 1.2. Qualitative evaluation\n",
    "\n",
    "Below is a ready-to-use function to visualize classification boundaries. You are not required to understand it in detail but try to understand what inputs/outputs the functions require/produce. You will need to use these later in the notebook. "
   ]
  },
  {
   "cell_type": "code",
   "execution_count": 38,
   "metadata": {},
   "outputs": [],
   "source": [
    "def make_meshgrid(x, y, h=.02):\n",
    "    \"\"\"Create a mesh of points to plot in\n",
    "\n",
    "    Parameters\n",
    "    ----------\n",
    "    x: data to base x-axis meshgrid on\n",
    "    y: data to base y-axis meshgrid on\n",
    "    h: stepsize for meshgrid, optional\n",
    "\n",
    "    Returns\n",
    "    -------\n",
    "    xx, yy : ndarray\n",
    "    \"\"\"\n",
    "    x_min, x_max = x.min() - 1, x.max() + 1\n",
    "    y_min, y_max = y.min() - 1, y.max() + 1\n",
    "    xx, yy = np.meshgrid(np.arange(x_min, x_max, h),\n",
    "                         np.arange(y_min, y_max, h))\n",
    "    return xx, yy\n",
    "\n",
    "\n",
    "def plot_contours(clf, X, y, **params):\n",
    "    \"\"\"Plot the decision boundaries for a classifier.\n",
    "\n",
    "    Parameters\n",
    "    ----------\n",
    "    ax: matplotlib axes object\n",
    "    clf: a classifier\n",
    "    xx: meshgrid ndarray\n",
    "    yy: meshgrid ndarray\n",
    "    params: dictionary of params to pass to contourf, optional\n",
    "    \"\"\"\n",
    "    fig, ax = plt.subplots(constrained_layout=True)\n",
    "    \n",
    "    X0, X1 = X[:, 0], X[:, 1]\n",
    "    xx, yy = make_meshgrid(X0, X1)\n",
    "    Z = clf.predict(np.c_[xx.ravel(), yy.ravel()])\n",
    "    Z = Z.reshape(xx.shape)\n",
    "    out = ax.contourf(xx, yy, Z, cmap=plt.cm.coolwarm, alpha=0.7)\n",
    "    ax.scatter(X0, X1, c=y, cmap=plt.cm.coolwarm, s=30, edgecolors='k')\n",
    "    ax.set_xlim(xx.min(), xx.max())\n",
    "    ax.set_ylim(yy.min(), yy.max())\n",
    "    ax.set_xticks(())\n",
    "    ax.set_yticks(())\n",
    "    plt.show()"
   ]
  },
  {
   "cell_type": "markdown",
   "metadata": {},
   "source": [
    "**Task:** Using the function $plot\\_contours$, visualize the training boundaries obtained by your classifier by providing the correct arguments to it. "
   ]
  },
  {
   "cell_type": "code",
   "execution_count": 39,
   "metadata": {},
   "outputs": [
    {
     "data": {
      "image/png": "[encoded data removed]",
      "text/plain": [
       "<Figure size 432x288 with 1 Axes>"
      ]
     },
     "metadata": {},
     "output_type": "display_data"
    }
   ],
   "source": [
    "# Calling your classifier\n",
    "my_clf = StudentsClassifier()\n",
    "# Visualizing class boundaries for my_clf\n",
    "# Your code here:\n",
    "plot_contours(my_clf,x_train,y_train)\n",
    "\n"
   ]
  },
  {
   "cell_type": "markdown",
   "metadata": {},
   "source": [
    "### 1.3. Quantitative evaluation\n",
    "\n",
    "**Task:** First 'predict' the classes for X_test using the classifier you just defined above. And then calculate the accuracy on this test dataset. Use `scikit`'s `accuracy_score`.\n",
    "\n",
    "Hint: First import the necessary module."
   ]
  },
  {
   "cell_type": "code",
   "execution_count": 40,
   "metadata": {},
   "outputs": [
    {
     "data": {
      "text/plain": [
       "0.9666666666666667"
      ]
     },
     "execution_count": 40,
     "metadata": {},
     "output_type": "execute_result"
    }
   ],
   "source": [
    "# Your code here:\n",
    "from sklearn.metrics import accuracy_score\n",
    "#my_clf = StudentsClassifier()\n",
    "# y_pred = ? # Complete the code!\n",
    "y_pred = np.array([my_clf.predict_single(x) for x in x_test])\n",
    "accuracy_score(y_test, y_pred)\n"
   ]
  },
  {
   "cell_type": "markdown",
   "metadata": {},
   "source": [
    "### 1.4. Support Vector Machine\n",
    "\n",
    "SVMs are a powerful and flexible class of supervised algorithms for both classification and regression. They are memory efficient in that they use only a subset of the training points in the decision function (called support vectors). The simplest SVM uses a linear kernel to separate classes. "
   ]
  },
  {
   "cell_type": "markdown",
   "metadata": {},
   "source": [
    "**Task:** Using `sklearn`'s `svm`, implement a SVM with a linear kernel. Also perform a qualitative and a quantitative evaluation just as you did previously. "
   ]
  },
  {
   "cell_type": "code",
   "execution_count": 41,
   "metadata": {
    "scrolled": true
   },
   "outputs": [
    {
     "data": {
      "image/png": "[encoded data removed]",
      "text/plain": [
       "<Figure size 432x288 with 1 Axes>"
      ]
     },
     "metadata": {},
     "output_type": "display_data"
    },
    {
     "data": {
      "text/plain": [
       "0.9666666666666667"
      ]
     },
     "execution_count": 41,
     "metadata": {},
     "output_type": "execute_result"
    }
   ],
   "source": [
    "from sklearn import svm\n",
    "\n",
    "# Example code: LinearSVC\n",
    "clf0 = svm.LinearSVC() # SVC = Support Vector Classifier\n",
    "# train clf0 on X_train and y_train\n",
    "svmpred=clf0.fit(x_train, y_train)\n",
    "# visualize \n",
    "plot_contours(clf0, x_train, y_train)\n",
    "\n",
    "y_pred1 = np.array(svmpred.predict(x_test))\n",
    "accuracy_score(y_test, y_pred1)\n",
    "\n"
   ]
  },
  {
   "cell_type": "markdown",
   "metadata": {},
   "source": [
    "**Question:** How is it in comparison to the your classifier? (Compare the accuracies).\n",
    "\n",
    "Answer: Since the test data is less (30 values), we couldn't find much difference between our own classifier and the svm. \n",
    "\n"
   ]
  },
  {
   "cell_type": "markdown",
   "metadata": {},
   "source": [
    "### 1.4. More on accuracy metrics\n",
    "\n",
    "The Confusion Matrix provides a better summary of the classification performance than just the accuracy score. The latter is often not the best measure for classification tasks involving more than two classes. Calculating a confusion matrix can give you a better idea of what your classification model is getting right and what types of errors it is making."
   ]
  },
  {
   "cell_type": "markdown",
   "metadata": {},
   "source": [
    "**Task:** Read up on Confusion Matrix if you are not familiar with the term. Then using `sklearn`'s `confusion_matrix` draw it and try to understand the perfomance of your classifier. \n",
    "\n",
    "Tip: You may also want to look into `sklearn`'s `classification_report` function. "
   ]
  },
  {
   "cell_type": "code",
   "execution_count": 42,
   "metadata": {
    "scrolled": false
   },
   "outputs": [
    {
     "name": "stdout",
     "output_type": "stream",
     "text": [
      "[[10  0  0]\n",
      " [ 0  8  1]\n",
      " [ 0  0 11]]\n",
      "\n",
      "                 precision    recall  f1-score   support\n",
      "\n",
      "    Iris-setosa       1.00      1.00      1.00        10\n",
      "Iris-versicolor       1.00      0.89      0.94         9\n",
      " Iris-virginica       0.92      1.00      0.96        11\n",
      "\n",
      "       accuracy                           0.97        30\n",
      "      macro avg       0.97      0.96      0.97        30\n",
      "   weighted avg       0.97      0.97      0.97        30\n",
      "\n"
     ]
    }
   ],
   "source": [
    "from sklearn.metrics import confusion_matrix\n",
    "\n",
    "print(confusion_matrix(y_test, y_pred1))\n",
    "\n",
    "from sklearn.metrics import classification_report\n",
    "species = ['Iris-setosa', 'Iris-versicolor', 'Iris-virginica']\n",
    "print(\"\")\n",
    "print(classification_report(y_test, y_pred1, target_names=species, labels=[0, 1, 2]))"
   ]
  },
  {
   "cell_type": "markdown",
   "metadata": {},
   "source": [
    "### 1.5. Tuning the Hyperparameters\n",
    "\n",
    "There are several parameters that can help achieve better results (introduced in the Preparatory Material). \n",
    "\n",
    "- Kernel: Depending on the (expected) distribution of our classes, we can choose different types of functions, eg. linear, polynomial, and radial basis function (RBF). As might be obvious, the latter two are useful for non-linear hyperplane.\n",
    "\n",
    "- Regularization: `C` in scikit-learn is a penalty parameter that controls the flexibility allowed to the hyperplane. A smaller value of C creates a small-margin hyperplane and a larger value creates a larger-margin hyperplane. \n",
    "\n",
    "- Gamma: This defines how far the influence of a single training example reaches, with low values meaning ‘far’ and high values meaning ‘close’. A small gamma value define a Gaussian function with a large variance. In this case, two points can be considered similar even if are far from each other. In the other hand, a large gamma value means define a Gaussian function with a small variance and in this case, two points are considered similar just if they are close to each other."
   ]
  },
  {
   "cell_type": "markdown",
   "metadata": {},
   "source": [
    "**Task:** With a simple trial and error approach try to visualize and understand the effect of the hyperparameters and find an optimum classifier for the given dataset. You may use the metrices you learnt about to evaluate the performance of the different classifiers."
   ]
  },
  {
   "cell_type": "code",
   "execution_count": 43,
   "metadata": {},
   "outputs": [
    {
     "data": {
      "image/png": "[encoded data removed]",
      "text/plain": [
       "<Figure size 432x288 with 1 Axes>"
      ]
     },
     "metadata": {},
     "output_type": "display_data"
    },
    {
     "data": {
      "text/plain": [
       "0.9666666666666667"
      ]
     },
     "execution_count": 43,
     "metadata": {},
     "output_type": "execute_result"
    }
   ],
   "source": [
    "svmpred2 = svm.SVC(C=0.5,kernel='poly', gamma='auto').fit(x_train, y_train)\n",
    "\n",
    "plot_contours(svmpred2, x_train, y_train)\n",
    "\n",
    "y_pred1 = np.array(svmpred2.predict(x_test))\n",
    "accuracy_score(y_test, y_pred1)\n",
    "\n"
   ]
  },
  {
   "cell_type": "markdown",
   "metadata": {},
   "source": [
    "### 1.6. k-nearest neighbour (knn)"
   ]
  },
  {
   "cell_type": "markdown",
   "metadata": {},
   "source": [
    "### knn Algorithm\n",
    "\n",
    "- Define a distance metric (Euclidean distance)\n",
    "- Choose a value for k (= the number of nearest neighbours) \n",
    "- Take k-nearest neighbors of the new data point, according to your distance metric\n",
    "- Assign the new data point the same category as its nearest neighbors"
   ]
  },
  {
   "cell_type": "markdown",
   "metadata": {},
   "source": [
    "### 1.7. My very own knn classifier\n",
    "\n",
    "We define our own knn classifier according to the above algorithm. "
   ]
  },
  {
   "cell_type": "markdown",
   "metadata": {},
   "source": [
    "**Task (Step 1):** Define a function that calculates the euclidean distance between two points. "
   ]
  },
  {
   "cell_type": "code",
   "execution_count": 44,
   "metadata": {},
   "outputs": [],
   "source": [
    "def my_ecd(v1,v2):\n",
    "    # Your code here:\n",
    "    \n",
    "    vect1= np.array(v1)\n",
    "    vect2= np.array(v2)\n",
    "    arrdim1 = len(vect1)\n",
    "    arrdim2 = len(vect2)\n",
    "    ecd = 0\n",
    "    if arrdim1 == arrdim2:\n",
    "        for i in range(arrdim1):\n",
    "            s = (v1[i] - v2[i]) ** 2\n",
    "            ecd = ecd + s\n",
    "        ecd = ecd ** 0.5\n",
    "        return ecd\n",
    "    else:\n",
    "        print(\"Invalid Inputs\")"
   ]
  },
  {
   "cell_type": "markdown",
   "metadata": {},
   "source": [
    "**Task (Step 2):** Define a function that uses my_ecd to calculate the distance between one single test data point with *all* the training data points. Save the distances *along with their respective indices* in a list. Return the *sorted* list as the output of the function. \n",
    "\n",
    "Hint: 1. To get indices, you may want to use `enumerate`.        2. You may use the function `sort` or `sorted`."
   ]
  },
  {
   "cell_type": "code",
   "execution_count": 45,
   "metadata": {},
   "outputs": [],
   "source": [
    "    \n",
    "def my_distance_metric(x_train, single_test):\n",
    "    \"\"\"Calculates the distance between one test sample X_test and every sample in X_train.\n",
    "\n",
    "    Parameters:\n",
    "    X_train = all available training samples\n",
    "    single_test = one particular test sample\n",
    "    k = number of nearest neighbours\n",
    "    -----------\n",
    "    Returns: sorted distance list  \n",
    "    \"\"\"\n",
    "    training_set = np.array(x_train)\n",
    "    train_dim = len(training_set)\n",
    "    dist_list = []\n",
    "    # Your code here:\n",
    "    # Define a for-loop to compute distance\n",
    "    #for counter, value in enumerate(some_list):\n",
    "    for c, i in enumerate(range(train_dim),0):\n",
    "        dist = my_ecd(training_set[i,:], single_test)\n",
    "        dist_list.append([c, dist])           #c is index from 0 and dist is distance of each training point from the first one to test point\n",
    "    dist_list = sorted(dist_list, key = lambda x:x[1]) \n",
    "    return dist_list\n"
   ]
  },
  {
   "cell_type": "markdown",
   "metadata": {},
   "source": [
    "**Taks (Step 3):** Define a function to save the first k target values corresponding to dist_list obtained above. "
   ]
  },
  {
   "cell_type": "code",
   "execution_count": 46,
   "metadata": {},
   "outputs": [],
   "source": [
    "def my_target_list(dist_list, y_train, k): \n",
    "    # Your code here:\n",
    "    # make a list of the k neighbors' targets\n",
    "    target_list = []\n",
    "    for i in range(k):\n",
    "        target_list.append(y_train[dist_list[i][0]]) #target value in the training set of the iTH nearest point\n",
    "    return target_list\n"
   ]
  },
  {
   "cell_type": "markdown",
   "metadata": {},
   "source": [
    "**Task (Step 4):** Define a function that assigns predictions to the test data points. \n",
    "\n",
    "Hint: Use `most_common`method from the `Counter` object to get the target that occurs maximum number of times."
   ]
  },
  {
   "cell_type": "code",
   "execution_count": 47,
   "metadata": {},
   "outputs": [],
   "source": [
    "from collections import Counter\n",
    "def my_predict(target_list):\n",
    "    # Your code here:\n",
    "    cnt_obj = Counter(target_list)\n",
    "    test_targ = cnt_obj.most_common(1)\n",
    "    return test_targ\n"
   ]
  },
  {
   "cell_type": "markdown",
   "metadata": {},
   "source": [
    "**Task (Step 5):** Finally define a function that loops through all data points predicting each one by one."
   ]
  },
  {
   "cell_type": "code",
   "execution_count": 48,
   "metadata": {},
   "outputs": [],
   "source": [
    "def my_knn(X_test, x_train, y_train, k):    \n",
    "    all_predictions = []\n",
    "    # Your code here:\n",
    "    # define a for-loop to loop through all the test data points \n",
    "    # to get the predictions for each one of them individually \n",
    "    test_set = np.array(x_test)\n",
    "    for i in range(len(x_test)):\n",
    "        list_of_distances = my_distance_metric(x_train, x_test[i])\n",
    "        k_closest_targets = my_target_list(list_of_distances, y_train, k)\n",
    "        test_point_prediction = my_predict(k_closest_targets)\n",
    "        all_predictions.append(list(test_point_prediction[0])[0])\n",
    "    return all_predictions"
   ]
  },
  {
   "cell_type": "markdown",
   "metadata": {},
   "source": [
    "**Task:** Use the knn-function\n",
    "to predict X_test and calculate the accuracy. "
   ]
  },
  {
   "cell_type": "code",
   "execution_count": 49,
   "metadata": {},
   "outputs": [
    {
     "name": "stdout",
     "output_type": "stream",
     "text": [
      "[2 2 0 2 0 2 0 1 2 0 2 2 0 2 1 0 1 1 0 1 2 0 2 1 2 1 0 0 2 1] ypred\n",
      "[2 2 0 1 0 1 0 1 2 0 2 2 0 2 1 0 2 1 0 1 2 0 2 1 2 1 0 0 2 1] ytest\n",
      "Accuracy of my_knn classifier:  0.9\n"
     ]
    }
   ],
   "source": [
    "# Your code here:\n",
    "from sklearn.metrics import accuracy_score\n",
    "test_set_predictions = my_knn(x_test, x_train, y_train, k=3)\n",
    "test_set_predictions = np.array(test_set_predictions)\n",
    "print(test_set_predictions,\"ypred\")\n",
    "print(y_test,\"ytest\")\n",
    "print(\"Accuracy of my_knn classifier: \", accuracy_score(test_set_predictions, y_test))"
   ]
  },
  {
   "cell_type": "markdown",
   "metadata": {},
   "source": [
    "**Task:** Use the built-in knn classifier from `scikit-learn`"
   ]
  },
  {
   "cell_type": "code",
   "execution_count": 50,
   "metadata": {},
   "outputs": [
    {
     "name": "stdout",
     "output_type": "stream",
     "text": [
      "Accuracy of my_knn classifier:  0.9\n"
     ]
    }
   ],
   "source": [
    "from sklearn.neighbors import KNeighborsClassifier\n",
    "from sklearn.metrics import accuracy_score\n",
    "\n",
    "def built_in_KNN_classifier(x_test, x_train, y_train, y_test, k):\n",
    "    all_predict = []\n",
    "    knn_model = KNeighborsClassifier(k)\n",
    "    knn_model.fit(x_train, y_train)\n",
    "    all_predict = knn_model.predict(x_test)\n",
    "    print(\"Accuracy of my_knn classifier: \", accuracy_score(all_predict, y_test))\n",
    "\n",
    "built_in_KNN_classifier(x_test,x_train,y_train, y_test,3)\n"
   ]
  },
  {
   "cell_type": "markdown",
   "metadata": {},
   "source": [
    "**Question:** How does your knn classifier perform in in comparison to the built-in function? \n",
    "\n",
    "Answer:The my-knn and built in knn functions do equally well on the given training and test set data, with an accuracy score of 0.9.\n",
    "\n"
   ]
  },
  {
   "cell_type": "markdown",
   "metadata": {},
   "source": [
    "## 2. Unsupervised Learning "
   ]
  },
  {
   "cell_type": "markdown",
   "metadata": {},
   "source": [
    "Until now we always worked with features and targets (labels) of the given dataset. In unsupervised learning, we do not have any labels for the data. For classification task, here, we will rely on some clustering algorithms. \n",
    "\n",
    "In this section, we will see the K-means and Gausssian Mixture Model (GMM) clustering methods. These agorithms require us to 'guess' how many clusters (classes) we have. "
   ]
  },
  {
   "cell_type": "markdown",
   "metadata": {},
   "source": [
    "### 2.1. K-means \n",
    "\n",
    "This is the simplest clustering algorithm. We initialize the algorithm with 'k' clusters according to which we get 'k' centroids. The algorithm then iteratively assigns every datapoint to its nearest cluster. The 'means' in its name refers to averaging of the data, i.e., finding the centroid."
   ]
  },
  {
   "cell_type": "markdown",
   "metadata": {},
   "source": [
    "**Task:** Perform unsupervised classification using `sklearn's` `KMeans`. To check your results, print out the output lables and compare with the target values. \n",
    "\n",
    "Note: For this task we ignore the several optional parameters. Providing only the `n_clusters` argument will suffice for this task. "
   ]
  },
  {
   "cell_type": "markdown",
   "metadata": {},
   "source": [
    "**Question:** Before you begin the task, think about which dataset should you work with here? \n",
    "\n",
    "Hint: Unsupervised learning = NO labels available\n",
    "\n",
    "Answer: Dataset with only feature dimensions or PCA will be suitable for K-means"
   ]
  },
  {
   "cell_type": "code",
   "execution_count": 51,
   "metadata": {
    "scrolled": false
   },
   "outputs": [
    {
     "name": "stdout",
     "output_type": "stream",
     "text": [
      "[1 1 1 1 1 1 1 1 1 1 1 1 1 1 1 1 1 1 1 1 1 1 1 1 1 1 1 1 1 1 1 1 1 1 1 1 1\n",
      " 1 1 1 1 1 1 1 1 1 1 1 1 1 2 2 2 0 0 0 2 0 0 0 0 0 0 0 0 2 0 0 0 0 2 0 0 0\n",
      " 0 2 2 2 0 0 0 0 0 0 0 2 2 0 0 0 0 0 0 0 0 0 0 0 0 0 2 0 2 2 2 2 0 2 2 2 2\n",
      " 2 2 0 0 2 2 2 2 0 2 0 2 0 2 2 0 2 2 2 2 2 2 0 0 2 2 2 0 2 2 2 0 2 2 2 0 2\n",
      " 2 0] target predicted using scikit\n",
      "[0 0 0 0 0 0 0 0 0 0 0 0 0 0 0 0 0 0 0 0 0 0 0 0 0 0 0 0 0 0 0 0 0 0 0 0 0\n",
      " 0 0 0 0 0 0 0 0 0 0 0 0 0 1 1 1 1 1 1 1 1 1 1 1 1 1 1 1 1 1 1 1 1 1 1 1 1\n",
      " 1 1 1 1 1 1 1 1 1 1 1 1 1 1 1 1 1 1 1 1 1 1 1 1 1 1 2 2 2 2 2 2 2 2 2 2 2\n",
      " 2 2 2 2 2 2 2 2 2 2 2 2 2 2 2 2 2 2 2 2 2 2 2 2 2 2 2 2 2 2 2 2 2 2 2 2 2\n",
      " 2 2] label\n"
     ]
    }
   ],
   "source": [
    "# Your code here:\n",
    "from sklearn.cluster import KMeans \n",
    "kmeans = KMeans(n_clusters=3)\n",
    "y_pred_kmeans = kmeans.fit_predict(features_PCA)\n",
    "\n",
    "\n",
    "print(y_pred_kmeans, \"target predicted using scikit\")\n",
    "print(targets ,\"label\")\n"
   ]
  },
  {
   "cell_type": "markdown",
   "metadata": {},
   "source": [
    "**Question:** Is it informative to compare the labels and the targets? Explain.\n",
    "\n",
    "Answer: \n",
    "Since the centroid locations are assigned randomly, it is not meaningful to directly compare the actual labels with targets. The targets are alloted randomly.\n"
   ]
  },
  {
   "cell_type": "markdown",
   "metadata": {},
   "source": [
    "### 2.2 Visualization of labels\n",
    "\n",
    "I hope by now it is clear to you why calculating accuracy as done previously does not make sense in this case. Hence, we perform a simple visualization to assess the performance. "
   ]
  },
  {
   "cell_type": "markdown",
   "metadata": {},
   "source": [
    "**Task:** Plot the results of the kmeans function as a scatter plot (similar to PCA). "
   ]
  },
  {
   "cell_type": "code",
   "execution_count": 53,
   "metadata": {},
   "outputs": [
    {
     "data": {
      "image/png": "[encoded data removed]",
      "text/plain": [
       "<Figure size 432x288 with 1 Axes>"
      ]
     },
     "metadata": {
      "needs_background": "light"
     },
     "output_type": "display_data"
    },
    {
     "data": {
      "image/png": "[encoded data removed]",
      "text/plain": [
       "<Figure size 432x288 with 1 Axes>"
      ]
     },
     "metadata": {
      "needs_background": "light"
     },
     "output_type": "display_data"
    }
   ],
   "source": [
    "# Your code here:\n",
    "\n",
    "# using PCA with targets obtained by KMeans\n",
    "data = [[features_PCA[np.where(y_pred_kmeans == target)][:, feature] for feature in [0, 1]] for target in range(3)]\n",
    "\n",
    "species = ['cluster0','cluster1','cluster2']\n",
    "for item, color, group in zip(data, colors, species):\n",
    "    plt.scatter(item[0], item[1], color=color)\n",
    "    plt.title('Projection matrix')\n",
    "plt.xlabel('PCA1')\n",
    "plt.ylabel('PCA2')\n",
    "plt.legend(species)\n",
    "plt.show()\n",
    "#####I have used PCA dimensions for easier visualization in 2 dimensions\n",
    "\n",
    "# Optional: Plotting the centroids of the clusters\n",
    "# plt.scatter(kmeans.cluster_centers_[:, 0], kmeans.cluster_centers_[:,1], s = 70, c = 'black')\n",
    "plt.scatter(kmeans.cluster_centers_[:, 0], kmeans.cluster_centers_[:,1], s = 70, c = 'black')\n",
    "plt.title(\"Centroids wrt two PCA dimensions\")\n",
    "plt.show()"
   ]
  },
  {
   "cell_type": "markdown",
   "metadata": {},
   "source": [
    "### 2.3 The Elbow Method\n",
    "\n",
    "In a truly unsupervised learning scenario, how could we make the initial guess for the number of custers? One option is The Elbow Method.\n",
    "\n",
    "The basic idea behind cluster partitioning methods, such as k-means clustering, is to define clusters such that the total intra-cluster variation, or total within-cluster sum of square (wcss), is minimized. In the Elbow Method, we plot the WCSS against a set of values for 'k' and the location of a bend (elbow) in the plot is generally considered as an indicator of the appropriate number of clusters."
   ]
  },
  {
   "cell_type": "code",
   "execution_count": 60,
   "metadata": {},
   "outputs": [
    {
     "data": {
      "image/png": "[encoded data removed]",
      "text/plain": [
       "<Figure size 432x288 with 1 Axes>"
      ]
     },
     "metadata": {
      "needs_background": "light"
     },
     "output_type": "display_data"
    }
   ],
   "source": [
    "#Finding the optimum number of clusters for k-means classification\n",
    "wcss = [] #within cluster sum of squares\n",
    "\n",
    "for i in range(1, 11):\n",
    "    kmeans = KMeans(n_clusters=i, init='k-means++', max_iter=300, n_init=10, random_state=0)\n",
    "    kmeans.fit(features_PCA)\n",
    "    wcss.append(kmeans.inertia_)\n",
    "    \n",
    "#Plotting the results onto a line graph, allowing us to observe 'The elbow'\n",
    "plt.plot(range(1, 11), wcss)\n",
    "plt.title('The elbow method')\n",
    "plt.xlabel('Number of clusters')\n",
    "plt.ylabel('WCSS') \n",
    "plt.show()"
   ]
  },
  {
   "cell_type": "markdown",
   "metadata": {},
   "source": [
    "**Question:** What is the optimum number of clusters according to the Elbow Method? \n",
    "\n",
    "Answer: Optimum value of k is chosen such that the increase in k doesn't affect WCSS, i.e, there is no significant change in WCSS even if we increase K. This point corresponds to 3 or 4 in this example. This point is the elbow point of the plot."
   ]
  },
  {
   "cell_type": "markdown",
   "metadata": {},
   "source": [
    "### 2.4 GMM\n",
    "\n",
    "As we saw, Kmeans might not always provide the most optimum output because it deos not have any intrinsic measure of probability or uncertainty of cluster assignments. A major limitation of k-means is that the cluster models must be circular: k-means has no built-in way of accounting for oblong or elliptical clusters.\n",
    "\n",
    "Gaussian mixture models (GMMs) offer an extension to the idea of kmeans and provide a better estimation. They attempt to find a mixture of multi-dimensional Gaussian probability distributions that best model any input dataset. While Kmeans is a method that performs hard labeling, i.e., it simply choses the maximum probability, GMM provide soft labeling by looking at all the probabilities instead of only maximum. "
   ]
  },
  {
   "cell_type": "markdown",
   "metadata": {},
   "source": [
    "**Task:** Try out GMM using `sklearn`'s `GaussianMixture`. Display the probabilities that are assigned to every sample to understand the concept of soft-labeling as explained above. You may also plot the clusters for visualization. \n",
    "\n",
    "Tip: Round the probabilities up to two decimal places before displaying."
   ]
  },
  {
   "cell_type": "code",
   "execution_count": 61,
   "metadata": {},
   "outputs": [
    {
     "name": "stdout",
     "output_type": "stream",
     "text": [
      "predicted posterior probability for each sample [[1.   0.   0.  ]\n",
      " [1.   0.   0.  ]\n",
      " [1.   0.   0.  ]\n",
      " [1.   0.   0.  ]\n",
      " [1.   0.   0.  ]\n",
      " [1.   0.   0.  ]\n",
      " [1.   0.   0.  ]\n",
      " [1.   0.   0.  ]\n",
      " [1.   0.   0.  ]\n",
      " [1.   0.   0.  ]\n",
      " [1.   0.   0.  ]\n",
      " [1.   0.   0.  ]\n",
      " [1.   0.   0.  ]\n",
      " [1.   0.   0.  ]\n",
      " [1.   0.   0.  ]\n",
      " [1.   0.   0.  ]\n",
      " [1.   0.   0.  ]\n",
      " [1.   0.   0.  ]\n",
      " [1.   0.   0.  ]\n",
      " [1.   0.   0.  ]\n",
      " [1.   0.   0.  ]\n",
      " [1.   0.   0.  ]\n",
      " [1.   0.   0.  ]\n",
      " [1.   0.   0.  ]\n",
      " [1.   0.   0.  ]\n",
      " [1.   0.   0.  ]\n",
      " [1.   0.   0.  ]\n",
      " [1.   0.   0.  ]\n",
      " [1.   0.   0.  ]\n",
      " [1.   0.   0.  ]\n",
      " [1.   0.   0.  ]\n",
      " [1.   0.   0.  ]\n",
      " [1.   0.   0.  ]\n",
      " [1.   0.   0.  ]\n",
      " [1.   0.   0.  ]\n",
      " [1.   0.   0.  ]\n",
      " [1.   0.   0.  ]\n",
      " [1.   0.   0.  ]\n",
      " [1.   0.   0.  ]\n",
      " [1.   0.   0.  ]\n",
      " [1.   0.   0.  ]\n",
      " [0.99 0.01 0.  ]\n",
      " [1.   0.   0.  ]\n",
      " [1.   0.   0.  ]\n",
      " [1.   0.   0.  ]\n",
      " [1.   0.   0.  ]\n",
      " [1.   0.   0.  ]\n",
      " [1.   0.   0.  ]\n",
      " [1.   0.   0.  ]\n",
      " [1.   0.   0.  ]\n",
      " [0.   0.32 0.68]\n",
      " [0.   0.53 0.47]\n",
      " [0.   0.31 0.69]\n",
      " [0.   0.95 0.05]\n",
      " [0.   0.56 0.44]\n",
      " [0.   0.87 0.13]\n",
      " [0.   0.47 0.53]\n",
      " [0.   0.99 0.01]\n",
      " [0.   0.59 0.41]\n",
      " [0.   0.95 0.05]\n",
      " [0.   0.99 0.01]\n",
      " [0.   0.78 0.22]\n",
      " [0.   0.93 0.07]\n",
      " [0.   0.72 0.28]\n",
      " [0.   0.9  0.1 ]\n",
      " [0.   0.5  0.5 ]\n",
      " [0.   0.82 0.18]\n",
      " [0.   0.92 0.08]\n",
      " [0.   0.66 0.34]\n",
      " [0.   0.95 0.05]\n",
      " [0.   0.58 0.42]\n",
      " [0.   0.83 0.17]\n",
      " [0.   0.58 0.42]\n",
      " [0.   0.79 0.21]\n",
      " [0.   0.7  0.3 ]\n",
      " [0.   0.56 0.44]\n",
      " [0.   0.43 0.57]\n",
      " [0.   0.3  0.7 ]\n",
      " [0.   0.75 0.25]\n",
      " [0.   0.95 0.05]\n",
      " [0.   0.97 0.03]\n",
      " [0.   0.97 0.03]\n",
      " [0.   0.91 0.09]\n",
      " [0.   0.65 0.35]\n",
      " [0.   0.85 0.15]\n",
      " [0.   0.53 0.47]\n",
      " [0.   0.42 0.58]\n",
      " [0.   0.76 0.24]\n",
      " [0.   0.86 0.14]\n",
      " [0.   0.94 0.06]\n",
      " [0.   0.93 0.07]\n",
      " [0.   0.71 0.29]\n",
      " [0.   0.92 0.08]\n",
      " [0.   0.99 0.01]\n",
      " [0.   0.91 0.09]\n",
      " [0.   0.85 0.15]\n",
      " [0.   0.87 0.13]\n",
      " [0.   0.76 0.24]\n",
      " [0.   0.98 0.02]\n",
      " [0.   0.89 0.11]\n",
      " [0.   0.07 0.93]\n",
      " [0.   0.6  0.4 ]\n",
      " [0.   0.03 0.97]\n",
      " [0.   0.31 0.69]\n",
      " [0.   0.09 0.91]\n",
      " [0.   0.   1.  ]\n",
      " [0.   0.95 0.05]\n",
      " [0.   0.02 0.98]\n",
      " [0.   0.07 0.93]\n",
      " [0.   0.01 0.99]\n",
      " [0.   0.24 0.76]\n",
      " [0.   0.25 0.75]\n",
      " [0.   0.08 0.92]\n",
      " [0.   0.59 0.41]\n",
      " [0.   0.34 0.66]\n",
      " [0.   0.15 0.85]\n",
      " [0.   0.25 0.75]\n",
      " [0.   0.   1.  ]\n",
      " [0.   0.   1.  ]\n",
      " [0.   0.64 0.36]\n",
      " [0.   0.04 0.96]\n",
      " [0.   0.68 0.32]\n",
      " [0.   0.   1.  ]\n",
      " [0.   0.44 0.56]\n",
      " [0.   0.1  0.9 ]\n",
      " [0.   0.05 0.95]\n",
      " [0.   0.52 0.48]\n",
      " [0.   0.54 0.46]\n",
      " [0.   0.14 0.86]\n",
      " [0.   0.08 0.92]\n",
      " [0.   0.01 0.99]\n",
      " [0.   0.01 0.99]\n",
      " [0.   0.11 0.89]\n",
      " [0.   0.56 0.44]\n",
      " [0.   0.58 0.42]\n",
      " [0.   0.   1.  ]\n",
      " [0.   0.12 0.88]\n",
      " [0.   0.29 0.71]\n",
      " [0.   0.6  0.4 ]\n",
      " [0.   0.08 0.92]\n",
      " [0.   0.05 0.95]\n",
      " [0.   0.07 0.93]\n",
      " [0.   0.6  0.4 ]\n",
      " [0.   0.04 0.96]\n",
      " [0.   0.04 0.96]\n",
      " [0.   0.08 0.92]\n",
      " [0.   0.31 0.69]\n",
      " [0.   0.22 0.78]\n",
      " [0.   0.19 0.81]\n",
      " [0.   0.59 0.41]]\n"
     ]
    },
    {
     "data": {
      "image/png": "[encoded data removed]",
      "text/plain": [
       "<Figure size 432x288 with 1 Axes>"
      ]
     },
     "metadata": {
      "needs_background": "light"
     },
     "output_type": "display_data"
    }
   ],
   "source": [
    "# Your code here:\n",
    "from sklearn.mixture import GaussianMixture\n",
    "\n",
    "gmix = GaussianMixture(n_components=3)\n",
    "y_pred_GMM = gmix.fit_predict(features_PCA)\n",
    "\n",
    "probability = gmix.predict_proba(features_PCA)\n",
    "print(\"predicted posterior probability for each sample\",probability.round(decimals=2))\n",
    "\n",
    "data = [[features_PCA[np.where(y_pred_GMM == target)][:, feature] for feature in [0, 1]] for target in range(3)]\n",
    "\n",
    "for item, color, group in zip(data, colors, species):\n",
    "    plt.scatter(item[0], item[1], color=color)\n",
    "    plt.title('GMM cluster')\n",
    "plt.xlabel('PCA1')\n",
    "plt.ylabel('PCA2')\n",
    "plt.legend(species)\n",
    "plt.show()\n"
   ]
  },
  {
   "cell_type": "markdown",
   "metadata": {},
   "source": [
    "## 3. Bonus task \n",
    "\n",
    "**Task1:** For the above methods, it is highly interesting to work with the features directly without performing PCA. Compare performances of the methods with the results you obtained above with features_PCA.\n",
    "\n",
    "**Task2:** Perform a simple linear regression using `sklearn`'s built-in function on some randomly generated data. "
   ]
  },
  {
   "cell_type": "code",
   "execution_count": 63,
   "metadata": {
    "scrolled": false
   },
   "outputs": [
    {
     "data": {
      "image/png": "[encoded data removed]",
      "text/plain": [
       "<Figure size 432x288 with 1 Axes>"
      ]
     },
     "metadata": {
      "needs_background": "light"
     },
     "output_type": "display_data"
    },
    {
     "name": "stdout",
     "output_type": "stream",
     "text": [
      "1.0\n",
      "3*-5 +4 =  [-11.]\n"
     ]
    }
   ],
   "source": [
    "# Your code here:\n",
    "###using features[2,3] instead of features_PCA[0,1]\n",
    "gmix = GaussianMixture(n_components=3)\n",
    "y_pred_GMM = gmix.fit_predict(features)\n",
    "\n",
    "probability = gmix.predict_proba(features)\n",
    "data = [[features[np.where(y_pred_GMM == target)][:, feature] for feature in [2,3]] for target in range(3)]\n",
    "\n",
    "for item, color, group in zip(data, colors, species):\n",
    "    plt.scatter(item[0], item[1], color=color)\n",
    "    plt.title('Projection matrix')\n",
    "plt.xlabel('feature dim3')\n",
    "plt.ylabel('feature dim4')\n",
    "plt.legend(species)\n",
    "plt.show()\n",
    "\n",
    "\n",
    "##Task 2\n",
    "from sklearn.linear_model import LinearRegression\n",
    "sample_x = np.array([[1],[2],[3],[4],[5],[6],[-1],[-2],[-3]])\n",
    "\n",
    "### y = 3*x + 4 here\n",
    "sample_y = np.array([7,10,13,16,19,22,1,-2,-5])\n",
    "reg = LinearRegression().fit(sample_x, sample_y)\n",
    "print(reg.score(sample_x,sample_y))\n",
    "\n",
    "print(\"3*-5 +4 = \",reg.predict(np.array([[-5]])))\n"
   ]
  },
  {
   "cell_type": "markdown",
   "metadata": {},
   "source": [
    "## 4. Feedback Cell\n",
    "\n",
    "Hopefully you enjoyed this tutorial and learned some important classification methods used commonly in ML. Please leave your comments about what you liked/disliked in the session. Any suggestions are welcome!\n",
    "\n",
    "Your feedback:\n",
    "\n"
   ]
  },
  {
   "cell_type": "code",
   "execution_count": null,
   "metadata": {},
   "outputs": [],
   "source": []
  }
 ],
 "metadata": {
  "kernelspec": {
   "display_name": "Python 3",
   "language": "python",
   "name": "python3"
  },
  "language_info": {
   "codemirror_mode": {
    "name": "ipython",
    "version": 3
   },
   "file_extension": ".py",
   "mimetype": "text/x-python",
   "name": "python",
   "nbconvert_exporter": "python",
   "pygments_lexer": "ipython3",
   "version": "3.6.9"
  }
 },
 "nbformat": 4,
 "nbformat_minor": 4
}
